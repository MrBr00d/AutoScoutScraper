{
 "cells": [
  {
   "cell_type": "code",
   "execution_count": 3,
   "metadata": {},
   "outputs": [
    {
     "name": "stdout",
     "output_type": "stream",
     "text": [
      "dict_keys(['pageProps', '__N_SSP'])\n"
     ]
    }
   ],
   "source": [
    "import requests\n",
    "\n",
    "url = \"https://www.autoscout24.nl/_next/data/as24-search-funnel_main-1320/lst.json\"\n",
    "\n",
    "payload = {}\n",
    "headers = {\n",
    "  'Accept': '*/*'\n",
    "#   'Cookie': 'ab_test_lp=%7B%7D; as24Visitor=b8233bc3-b546-470b-8208-0716b2d360cb'\n",
    "}\n",
    "\n",
    "response = requests.request(\"GET\", url, headers=headers, data=payload).json()\n",
    "\n",
    "print(response.keys())\n"
   ]
  },
  {
   "cell_type": "code",
   "execution_count": 5,
   "metadata": {},
   "outputs": [
    {
     "data": {
      "text/plain": [
       "{'id': 'a2d9f50c-6976-41a2-a5ce-86deadb9fb5b',\n",
       " 'crossReferenceId': '295840077',\n",
       " 'images': ['https://prod.pictures.autoscout24.net/listing-images/a2d9f50c-6976-41a2-a5ce-86deadb9fb5b_c0b52fa8-9f88-4c02-bcbe-4a6b7d615a9d.jpg/250x188.webp',\n",
       "  'https://prod.pictures.autoscout24.net/listing-images/a2d9f50c-6976-41a2-a5ce-86deadb9fb5b_310f9d02-d885-4d17-a06c-8027bfade56b.jpg/250x188.webp',\n",
       "  'https://prod.pictures.autoscout24.net/listing-images/a2d9f50c-6976-41a2-a5ce-86deadb9fb5b_cda0aa29-fdae-4c88-970a-9ceea489a455.jpg/250x188.webp',\n",
       "  'https://prod.pictures.autoscout24.net/listing-images/a2d9f50c-6976-41a2-a5ce-86deadb9fb5b_b7175568-658a-492d-b797-af79ca6a9a00.jpg/250x188.webp',\n",
       "  'https://prod.pictures.autoscout24.net/listing-images/a2d9f50c-6976-41a2-a5ce-86deadb9fb5b_b30783a3-1d13-4c09-a5fd-3fded1fd9486.jpg/250x188.webp',\n",
       "  'https://prod.pictures.autoscout24.net/listing-images/a2d9f50c-6976-41a2-a5ce-86deadb9fb5b_8d4f2adc-d3e5-4019-88b5-97d8b3beab99.jpg/250x188.webp',\n",
       "  'https://prod.pictures.autoscout24.net/listing-images/a2d9f50c-6976-41a2-a5ce-86deadb9fb5b_eb9e051f-5ef3-48a3-9014-facc6d4789e8.jpg/250x188.webp',\n",
       "  'https://prod.pictures.autoscout24.net/listing-images/a2d9f50c-6976-41a2-a5ce-86deadb9fb5b_cc3c7456-0199-4bb5-b6f9-a331cae987ba.jpg/250x188.webp',\n",
       "  'https://prod.pictures.autoscout24.net/listing-images/a2d9f50c-6976-41a2-a5ce-86deadb9fb5b_544f6d58-e0ae-4776-9191-f7895406f7e5.jpg/250x188.webp',\n",
       "  'https://prod.pictures.autoscout24.net/listing-images/a2d9f50c-6976-41a2-a5ce-86deadb9fb5b_c0cb0b7b-e728-490d-ac36-683309683fba.jpg/250x188.webp',\n",
       "  'https://prod.pictures.autoscout24.net/listing-images/a2d9f50c-6976-41a2-a5ce-86deadb9fb5b_a9f81695-fb41-42ab-9326-b7e940d6ec18.jpg/250x188.webp',\n",
       "  'https://prod.pictures.autoscout24.net/listing-images/a2d9f50c-6976-41a2-a5ce-86deadb9fb5b_b0c76b05-e2ee-43c5-854b-0323dfaf2a21.jpg/250x188.webp',\n",
       "  'https://prod.pictures.autoscout24.net/listing-images/a2d9f50c-6976-41a2-a5ce-86deadb9fb5b_8a88bc41-ec39-4645-9e9b-d8fd3ce63e64.jpg/250x188.webp',\n",
       "  'https://prod.pictures.autoscout24.net/listing-images/a2d9f50c-6976-41a2-a5ce-86deadb9fb5b_a531c84b-a405-40b7-969c-77f7751ff2ac.jpg/250x188.webp',\n",
       "  'https://prod.pictures.autoscout24.net/listing-images/a2d9f50c-6976-41a2-a5ce-86deadb9fb5b_9db058f5-58b2-4bd4-961f-032746c5fdab.jpg/250x188.webp',\n",
       "  'https://prod.pictures.autoscout24.net/listing-images/a2d9f50c-6976-41a2-a5ce-86deadb9fb5b_91fb186a-ef12-43b8-9e2a-7d337765a5dd.jpg/250x188.webp',\n",
       "  'https://prod.pictures.autoscout24.net/listing-images/a2d9f50c-6976-41a2-a5ce-86deadb9fb5b_0160275d-d54d-48b4-948f-16dcd2e5cc8b.jpg/250x188.webp',\n",
       "  'https://prod.pictures.autoscout24.net/listing-images/a2d9f50c-6976-41a2-a5ce-86deadb9fb5b_9f490e0d-d231-481c-b11a-6201e5e0f63e.jpg/250x188.webp',\n",
       "  'https://prod.pictures.autoscout24.net/listing-images/a2d9f50c-6976-41a2-a5ce-86deadb9fb5b_4aa530ba-2086-4287-8430-8a1ca707df37.jpg/250x188.webp',\n",
       "  'https://prod.pictures.autoscout24.net/listing-images/a2d9f50c-6976-41a2-a5ce-86deadb9fb5b_731a1b4d-8ebc-4675-9d26-647955e893f9.jpg/250x188.webp',\n",
       "  'https://prod.pictures.autoscout24.net/listing-images/a2d9f50c-6976-41a2-a5ce-86deadb9fb5b_9c9569e4-5b12-483b-bd11-ba3d9a5b120d.jpg/250x188.webp',\n",
       "  'https://prod.pictures.autoscout24.net/listing-images/a2d9f50c-6976-41a2-a5ce-86deadb9fb5b_878a0512-2d83-4101-a945-445a207ffaaf.jpg/250x188.webp',\n",
       "  'https://prod.pictures.autoscout24.net/listing-images/a2d9f50c-6976-41a2-a5ce-86deadb9fb5b_b3bd3ae3-4c2e-4af0-98f4-8395e08a4139.jpg/250x188.webp',\n",
       "  'https://prod.pictures.autoscout24.net/listing-images/a2d9f50c-6976-41a2-a5ce-86deadb9fb5b_33430a6a-b5d6-4756-9215-b3b0f83664f3.jpg/250x188.webp',\n",
       "  'https://prod.pictures.autoscout24.net/listing-images/a2d9f50c-6976-41a2-a5ce-86deadb9fb5b_6dfc1f3f-1cef-4924-8f4e-c79d483d5ad1.jpg/250x188.webp',\n",
       "  'https://prod.pictures.autoscout24.net/listing-images/a2d9f50c-6976-41a2-a5ce-86deadb9fb5b_24f84ba2-a547-4deb-8cda-6bd0bab872db.jpg/250x188.webp',\n",
       "  'https://prod.pictures.autoscout24.net/listing-images/a2d9f50c-6976-41a2-a5ce-86deadb9fb5b_22f84803-3a8f-4970-aae8-c4a117d48fcd.jpg/250x188.webp',\n",
       "  'https://prod.pictures.autoscout24.net/listing-images/a2d9f50c-6976-41a2-a5ce-86deadb9fb5b_f91a0e6c-a726-4b46-996b-f54cd5a6ff0b.jpg/250x188.webp',\n",
       "  'https://prod.pictures.autoscout24.net/listing-images/a2d9f50c-6976-41a2-a5ce-86deadb9fb5b_2d0d63f7-f194-491a-8a40-8add28c35971.jpg/250x188.webp',\n",
       "  'https://prod.pictures.autoscout24.net/listing-images/a2d9f50c-6976-41a2-a5ce-86deadb9fb5b_7617246e-9d01-444a-af5d-2024ea08bcc6.jpg/250x188.webp',\n",
       "  'https://prod.pictures.autoscout24.net/listing-images/a2d9f50c-6976-41a2-a5ce-86deadb9fb5b_073dce6e-f3ca-4747-aa97-5ff08bdb094d.jpg/250x188.webp',\n",
       "  'https://prod.pictures.autoscout24.net/listing-images/a2d9f50c-6976-41a2-a5ce-86deadb9fb5b_1829e9ff-89ad-4e85-810a-b4d3f94f45bd.jpg/250x188.webp'],\n",
       " 'ocsImagesA': [],\n",
       " 'isOfferNew': True,\n",
       " 'price': {'priceFormatted': '€ 950,-'},\n",
       " 'seals': [{'id': 146,\n",
       "   'image': 'https://www.autoscout24.nl/seal-images/image/146/146.gif',\n",
       "   'culture': 'nl-NL'}],\n",
       " 'availableNow': True,\n",
       " 'superDeal': {'oldPriceFormatted': '', 'isEligible': False},\n",
       " 'url': '/aanbod/opel-meriva-1-4-16v-maxx-cool-90pk-rijklaar-airco-benzine-zilver-a2d9f50c-6976-41a2-a5ce-86deadb9fb5b',\n",
       " 'vehicle': {'articleType': 'Car',\n",
       "  'make': 'Opel',\n",
       "  'model': 'Meriva',\n",
       "  'modelVersionInput': '1.4-16V Maxx Cool 90PK | Rijklaar | Airco',\n",
       "  'subtitle': 'Lederen stuurwiel, Lichtmetalen velgen, Cruise Control, Centrale deurvergrendeling met afstandsbediening, Armsteun, Startonderbreker',\n",
       "  'offerType': 'U'},\n",
       " 'location': {'countryCode': 'NL', 'zip': '7161 LC', 'city': 'NEEDE'},\n",
       " 'seller': {'dealer': {},\n",
       "  'id': '23729390',\n",
       "  'type': 'Dealer',\n",
       "  'logo': {'small': {'href': 'https://prod.pictures.autoscout24.net/dealer-info/23729390-original-64e10bf4-f0cc-49cd-a349-ea8fe00cd31f.jpg/resize/100x50%3E/quality/90'}},\n",
       "  'companyName': 'Auto Brekveld',\n",
       "  'contactName': 'Carlo Brekveld',\n",
       "  'links': {'infoPage': 'https://www.autoscout24.nl/autobedrijven/auto-brekveld?atype=C',\n",
       "   'imprint': 'https://www.autoscout24.nl/autobedrijven/auto-brekveld/impressum'},\n",
       "  'phones': [{'phoneType': 'Office',\n",
       "    'formattedNumber': '+31 (0)545 - 745085',\n",
       "    'callTo': '+31545745085'},\n",
       "   {'phoneType': 'Mobile',\n",
       "    'formattedNumber': '+31 (0)6 - 49870743',\n",
       "    'callTo': '+31649870743'}]},\n",
       " 'appliedAdTier': 'T50',\n",
       " 'adTier': 'T50',\n",
       " 'isOcs': False,\n",
       " 'specialConditions': [],\n",
       " 'statistics': {'leadsRange': 'Zero'},\n",
       " 'searchResultType': 'Nfm',\n",
       " 'searchResultSection': 'Main',\n",
       " 'tracking': {'firstRegistration': '08-2005',\n",
       "  'fuelType': 'b',\n",
       "  'imageContent': 'no-placeholder|0.17546460380295548',\n",
       "  'isSmyleEligible': 'false',\n",
       "  'mileage': '236806',\n",
       "  'priceLabel': 'top-price',\n",
       "  'price': '950',\n",
       "  'orderBucket': '0',\n",
       "  'modelTaxonomy': '[make_id:54, model_group_id:18341, variant_id:, generation_id:, motortype_id:, trim_id:];'},\n",
       " 'coverImageAttractiveness': 0.17546460380295548,\n",
       " 'vehicleDetails': [{'data': '236.806 km',\n",
       "   'iconName': 'mileage_road',\n",
       "   'ariaLabel': 'Kilometerstand'},\n",
       "  {'data': 'Handgeschakeld',\n",
       "   'iconName': 'transmission',\n",
       "   'ariaLabel': 'Transmissie'},\n",
       "  {'data': '08/2005', 'iconName': 'calendar', 'ariaLabel': 'Bouwjaar'},\n",
       "  {'data': 'Benzine', 'iconName': 'gas_pump', 'ariaLabel': 'Brandstof'},\n",
       "  {'data': '66 kW (90 PK)',\n",
       "   'iconName': 'speedometer',\n",
       "   'ariaLabel': 'Vermogen kW (PK)'}],\n",
       " 'isListingBoost': False,\n",
       " 'trackingParameters': [{'key': 'mia_tier', 'value': 't50'},\n",
       "  {'key': 'topspot_algorithm', 'value': 'nfm-default'},\n",
       "  {'key': 'topspot_dealer_id', 'value': '23729390'},\n",
       "  {'key': 'relevance_adjustment', 'value': 'sponsored'},\n",
       "  {'key': 'applied_mia_tier', 'value': 't50'},\n",
       "  {'key': 'boosting_product', 'value': 'mia'}]}"
      ]
     },
     "execution_count": 5,
     "metadata": {},
     "output_type": "execute_result"
    }
   ],
   "source": [
    "response[\"pageProps\"][\"listings\"][0]"
   ]
  }
 ],
 "metadata": {
  "kernelspec": {
   "display_name": "ML cars",
   "language": "python",
   "name": "python3"
  },
  "language_info": {
   "codemirror_mode": {
    "name": "ipython",
    "version": 3
   },
   "file_extension": ".py",
   "mimetype": "text/x-python",
   "name": "python",
   "nbconvert_exporter": "python",
   "pygments_lexer": "ipython3",
   "version": "3.13.2"
  }
 },
 "nbformat": 4,
 "nbformat_minor": 2
}
